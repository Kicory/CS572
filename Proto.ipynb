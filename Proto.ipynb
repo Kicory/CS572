{
 "cells": [
  {
   "cell_type": "code",
   "execution_count": 4,
   "metadata": {},
   "outputs": [],
   "source": [
    "import torch\n",
    "import pandas as pd\n",
    "import numpy as np\n",
    "from torch.utils.data import Dataset\n",
    "from sklearn.preprocessing import StandardScaler"
   ]
  },
  {
   "cell_type": "code",
   "execution_count": 11,
   "metadata": {},
   "outputs": [],
   "source": [
    "class FeatureDataset(Dataset):\n",
    "    def __init__(self, file_name):\n",
    "        # read csv file and load row data into variables\n",
    "        file_out = pd.read_csv(file_name)\n",
    "        x_raw = file_out.iloc[:, [0, 1, 2, 3, 4, 6, 7, 8, 9]].values\n",
    "        output_raw = file_out.iloc[:, 5].values\n",
    "        \n",
    "        #Feature scaling\n",
    "        scaler = StandardScaler()\n",
    "        x_train = scaler.fit_transform(x_raw)\n",
    "        output_train = output_raw\n",
    "        \n",
    "        #To torch tensors\n",
    "        self.X_train = torch.tensor(x_train, dtype=torch.float32)\n",
    "        self.Y_train = torch.tensor(output_train)\n",
    "        \n",
    "    def __len__(self):\n",
    "        return len(self.Y_train)\n",
    "    \n",
    "    def __getitem__(self, idx):\n",
    "        return self.X_train[idx], self.Y_train[idx]"
   ]
  },
  {
   "cell_type": "code",
   "execution_count": null,
   "metadata": {},
   "outputs": [],
   "source": [
    "feature_set = FeatureDataset('Data/test11thick_1.csv')\n",
    "train_loader = torch.utils.data.DataLoader(feature_set, batch_size=10, shuffle=False)\n",
    "\n",
    "for f, l in train_loader:\n",
    "    print(f)\n",
    "    print(l)\n",
    "    break"
   ]
  }
 ],
 "metadata": {
  "kernelspec": {
   "display_name": "Python 3",
   "language": "python",
   "name": "python3"
  },
  "language_info": {
   "codemirror_mode": {
    "name": "ipython",
    "version": 3
   },
   "file_extension": ".py",
   "mimetype": "text/x-python",
   "name": "python",
   "nbconvert_exporter": "python",
   "pygments_lexer": "ipython3",
   "version": "3.8.5"
  }
 },
 "nbformat": 4,
 "nbformat_minor": 4
}
