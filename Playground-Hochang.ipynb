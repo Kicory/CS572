{
 "cells": [
  {
   "cell_type": "markdown",
   "metadata": {},
   "source": [
    "# CS572 Project\n",
    "* We selected the paper: {}\n",
    "* Based on the data and model of given paper, we are planning to make an extension of LSTM that predicts {}."
   ]
  },
  {
   "cell_type": "markdown",
   "metadata": {},
   "source": [
    "## Preparing"
   ]
  },
  {
   "cell_type": "code",
   "execution_count": null,
   "metadata": {},
   "outputs": [],
   "source": [
    "import torch\n",
    "import torch.nn as nn\n",
    "import torch.nn.functional as F\n",
    "import torch.optim as optim\n",
    "# from sklearn.model_selection import train_test_split\n",
    "import numpy as np\n",
    "import os\n",
    "from sklearn.metrics import mean_squared_error, mean_absolute_error\n",
    "from math import sqrt\n",
    "import time\n",
    "from matplotlib import pyplot as plt\n",
    "\n",
    "data_path_train = 'Data/Training' # add path\n",
    "data_path_test = 'Data/Testing'\n",
    "\n",
    "input_size = 8\n",
    "hidden_size = 128\n",
    "num_layers = 3\n",
    "num_epochs = 2000\n",
    "batch_size = 32\n",
    "learning_rate = 0.001\n",
    "weight_decay=0.00001"
   ]
  },
  {
   "cell_type": "markdown",
   "metadata": {},
   "source": [
    "Check if your computer is prepared to run pytorch model with CUDA."
   ]
  },
  {
   "cell_type": "code",
   "execution_count": null,
   "metadata": {},
   "outputs": [],
   "source": [
    "device = torch.device('cuda' if torch.cuda.is_available() else 'cpu')"
   ]
  },
  {
   "cell_type": "code",
   "execution_count": null,
   "metadata": {},
   "outputs": [],
   "source": [
    "class LSTM(nn.Module):\n",
    "    def __init__(self, input_size, hidden_size, num_layers):\n",
    "        super(LSTM, self).__init__()\n",
    "        self.input_size = input_size\n",
    "        self.hidden_size = hidden_size\n",
    "        self.num_layers = num_layers\n",
    "        \n",
    "        self.lstm = nn.LSTM(input_size, hidden_size, num_layers, batch_first=True)\n",
    "        # x -> batch_size, seq, input_size\n",
    "        self.fc = nn.Linear(hidden_size, 1)\n",
    "        \n",
    "#     def makehc_zero(self, batch_size):\n",
    "#         self.hn = torch.zeros(self.num_layers, batch_size, self.hidden_size).to(device)\n",
    "#         self.cn = torch.zeros(self.num_layers, batch_size, self.hidden_size).to(device)\n",
    "#         print(\"clear\")\n",
    "        \n",
    "    \n",
    "    def forward(self, x):\n",
    "#         if self.training == True:\n",
    "#             # Set initial hidden and cell states \n",
    "#             self.makehc_zero(x.size(0))\n",
    "\n",
    "        \n",
    "        # Forward propagate LSTM\n",
    "#         out, (self.hn, self.cn) = self.lstm(x, (self.hn, self.cn))  # out: tensor of shape (batch_size, seq_length, hidden_size)\n",
    "        h0 = torch.zeros(self.num_layers, x.size(0), self.hidden_size).to(device) \n",
    "        c0 = torch.zeros(self.num_layers, x.size(0), self.hidden_size).to(device) \n",
    "        \n",
    "        out, (self.hm, self.cn) = self.lstm(x,(h0,c0))\n",
    "\n",
    "        out_original = out\n",
    "        out_original_fc = self.fc(out_original) # out_original : Tensor of shape (batch_size, seq_length, 1)\n",
    "        \n",
    "#         pred_y = self.fc(out[-1].view(x.size(1),-1)) # pred_y : tensor of shape (40,1), taking the last section of a batch\n",
    "#         print(\"This is x.size(1):\", x.size(1))\n",
    "#         print(\"This is out[-1] :\", out[-1].shape)\n",
    "#         print(out[-1])\n",
    "#         print(\"This is out[-1].view(x.size(1),-1):\", out[-1].view(x.size(1),-1).shape)\n",
    "#         print(out[-1].view(x.size(1),-1))\n",
    "#         print(\"This is pred_y : \", pred_y.shape)\n",
    "#         print(pred_y)\n",
    "        \n",
    "\n",
    "#         out = out[:, -1, :]\n",
    "#         print(\"This is output right before linear : \", out.shape)\n",
    "#         out = self.fc(out)\n",
    "#         print(\"This is output after linear : \", out.shape)\n",
    "#         print(out)\n",
    "        \n",
    "        return out_original_fc"
   ]
  },
  {
   "cell_type": "markdown",
   "metadata": {},
   "source": [
    "Data Loading"
   ]
  },
  {
   "cell_type": "code",
   "execution_count": null,
   "metadata": {},
   "outputs": [],
   "source": [
    "# Training and Testing: To train fingertip forces from input\n",
    "# data, a three-layer BT-LSTM with 128 hidden units is used.\n",
    "# Sequence time length of BT-LSTM was set to T = 40. The final\n",
    "# output of the BT-LSTM layer is fed into the final fully-connected\n",
    "# layer to obtain the one-dimensional output. The mean squared\n",
    "# error (MSE) function is used to measure the loss between the\n",
    "# predicted and the ground truth contact force. During training,\n",
    "# the number of epoch was 2000, and the mini batch size was 32.\n",
    "# Adam optimizer was used with 0.001 learning rate and 10−5\n",
    "# weight decay\n",
    "lstm = LSTM(input_size, hidden_size, num_layers).to(device)\n",
    "criterion = nn.MSELoss()\n",
    "optimizer = optim.Adam(lstm.parameters(), lr=learning_rate, weight_decay=weight_decay)"
   ]
  },
  {
   "cell_type": "markdown",
   "metadata": {},
   "source": [
    "Load cell if needed"
   ]
  },
  {
   "cell_type": "code",
   "execution_count": null,
   "metadata": {},
   "outputs": [],
   "source": [
    "lstm.load_state_dict(torch.load('model.ckpt_Hochang_epochoutside'))"
   ]
  },
  {
   "cell_type": "markdown",
   "metadata": {},
   "source": [
    "Train model"
   ]
  },
  {
   "cell_type": "code",
   "execution_count": null,
   "metadata": {},
   "outputs": [],
   "source": [
    "for epoch in range (2000):\n",
    "    for path_idx in os.listdir(data_path_train):\n",
    "        cur_path = os.path.join(data_path_train, path_idx)\n",
    "        print(cur_path)\n",
    "        input_file = np.loadtxt(cur_path, dtype='float', delimiter=',')\n",
    "        # cell = nn.RNN(input_size=4, hidden_size=2, batchfirst=True)\n",
    "        inputs = torch.Tensor(input_file)\n",
    "    #     print(inputs[0])\n",
    "\n",
    "        inputs = inputs[:len(inputs)-len(inputs)%40]\n",
    "    #     labels = inputs[:, [5]]\n",
    "    # #     print(labels.shape)\n",
    "    #     labels = labels.view([-1, 40, 1])\n",
    "\n",
    "        inputs = inputs[:, [1,2,3,4,6,7,8,9,5]]\n",
    "        inputs = inputs.view([-1,40,9])\n",
    "\n",
    "        train_loader = torch.utils.data.DataLoader(dataset=inputs,\n",
    "                                               batch_size=batch_size, \n",
    "                                               shuffle=True)\n",
    "        # Train the model\n",
    "        start = time.time() \n",
    "        for i, inputs in enumerate(train_loader):\n",
    "            inputs, labels = torch.split(inputs, [8, 1], 2)\n",
    "#             print(\"inputs shape : \", inputs.shape)\n",
    "            inputs = inputs.to(device)\n",
    "    #         labels = labels[:,[39],:].view([-1,1])\n",
    "    #         labels = labels[-1,:,:].view([-1,1])\n",
    "            labels = labels.to(device)\n",
    "    #         print(\"labels shape : \", labels.shape)\n",
    "\n",
    "\n",
    "            # Forward pass\n",
    "            outputs = lstm(inputs)\n",
    "\n",
    "    #         print(labels.shape)\n",
    "\n",
    "            loss = criterion(outputs, labels)\n",
    "\n",
    "            # Backward and optimize\n",
    "            optimizer.zero_grad()\n",
    "            loss.backward()\n",
    "            optimizer.step()\n",
    "\n",
    "        if (epoch+1) % 10 == 0:\n",
    "            print ('Epoch [{}/{}], Loss: {:.4f}' \n",
    "                   .format(epoch+1, num_epochs, loss.item()))\n",
    "            print('time :', time.time() - start)\n",
    "    print(\"training complete\")"
   ]
  },
  {
   "cell_type": "markdown",
   "metadata": {},
   "source": [
    "Test model"
   ]
  },
  {
   "cell_type": "code",
   "execution_count": null,
   "metadata": {
    "scrolled": true
   },
   "outputs": [],
   "source": [
    "start = time.time()\n",
    "Expectation = []\n",
    "Truth = []\n",
    "\n",
    "with torch.no_grad():\n",
    "    for path_idx in os.listdir(data_path_test):\n",
    "        cur_path = os.path.join(data_path_test, path_idx)\n",
    "        print(cur_path)\n",
    "        input_file = np.loadtxt(cur_path, dtype='float', delimiter=',')\n",
    "        # cell = nn.RNN(input_size=4, hidden_size=2, batchfirst=True)\n",
    "               \n",
    "        inputs = torch.Tensor(input_file)\n",
    "        inputs = inputs[:len(inputs)-len(inputs)%40]\n",
    "        inputs = inputs[:, [1,2,3,4,6,7,8,9,5]]\n",
    "        inputs = inputs.view([-1,40,9])\n",
    "        \n",
    "        test_loader = torch.utils.data.DataLoader(dataset=inputs,\n",
    "                                       batch_size=batch_size, \n",
    "                                       shuffle=False)\n",
    "        \n",
    "        for inputs in test_loader:\n",
    "\n",
    "            inputs, labels = torch.split(inputs, [8,1], 2)\n",
    "            inputs = inputs.to(device)\n",
    "            labels = labels[:, : ,:].view([-1,1])\n",
    "            outputs = lstm(inputs)\n",
    "            outputs = outputs[:,:,:].view([-1,1])\n",
    "            \n",
    "            labels_list = labels.tolist()\n",
    "            outputs_list = outputs.tolist()\n",
    "            \n",
    "            zip_lists = zip(labels_list, outputs_list)\n",
    "            for labels, outputs in zip_lists:\n",
    "                Truth.append(labels)\n",
    "                Expectation.append(outputs)\n",
    "\n",
    "#             for i in range(inputs.size(1)):\n",
    "#                 outputs = lstm(inputs[:,i,:].view([inputs.size(0),1,8]))\n",
    "#                 total_outputs += outputs.cpu()           \n",
    "            \n",
    "        break\n",
    "\n",
    "    print(\"This is Expectation size\", len(Expectation))\n",
    "    rmse = mean_squared_error(Expectation, Truth, squared = False)\n",
    "    mae = mean_absolute_error(Expectation, Truth)\n",
    "    \n",
    "    print('Test Accuracy of the model RMSE: {}'.format(rmse))\n",
    "    print('Test Accuracy of the model MAE: {}'.format(mae)) \n",
    "    print('time :', time.time() - start)\n",
    "    \n"
   ]
  },
  {
   "cell_type": "markdown",
   "metadata": {},
   "source": [
    "Save model"
   ]
  },
  {
   "cell_type": "code",
   "execution_count": null,
   "metadata": {},
   "outputs": [],
   "source": [
    "torch.save(lstm.state_dict(), 'model.ckpt_Hochang_epochoutside')\n",
    "print(\"save complete\")"
   ]
  },
  {
   "cell_type": "code",
   "execution_count": null,
   "metadata": {},
   "outputs": [],
   "source": [
    "plt.plot(Expectation)\n",
    "plt.plot(Truth)\n",
    "plt.show()"
   ]
  },
  {
   "cell_type": "code",
   "execution_count": null,
   "metadata": {},
   "outputs": [],
   "source": [
    "plt.plot(Expectation)\n",
    "plt.plot(Truth)\n",
    "plt.savefig('model_Hochang_epochoutside.png', dpi=300)"
   ]
  },
  {
   "cell_type": "code",
   "execution_count": null,
   "metadata": {},
   "outputs": [],
   "source": [
    "print(total_labels)"
   ]
  }
 ],
 "metadata": {
  "kernelspec": {
   "display_name": "Python 3",
   "language": "python",
   "name": "python3"
  },
  "language_info": {
   "codemirror_mode": {
    "name": "ipython",
    "version": 3
   },
   "file_extension": ".py",
   "mimetype": "text/x-python",
   "name": "python",
   "nbconvert_exporter": "python",
   "pygments_lexer": "ipython3",
   "version": "3.8.5"
  }
 },
 "nbformat": 4,
 "nbformat_minor": 4
}
